{
 "cells": [
  {
   "cell_type": "code",
   "execution_count": 181,
   "id": "52828571",
   "metadata": {},
   "outputs": [
    {
     "name": "stdout",
     "output_type": "stream",
     "text": [
      "['Customer ID', 'Age', 'Gender', 'Item Purchased', 'Category', 'Purchase Amount (USD)', 'Location', 'Size', 'Color', 'Season', 'Review Rating', 'Subscription Status', 'Shipping Type', 'Discount Applied', 'Promo Code Used', 'Previous Purchases', 'Payment Method', 'Frequency of Purchases', 'Unnamed: 18', 'Order Date', 'Unnamed: 20']\n"
     ]
    }
   ],
   "source": [
    "import pandas as pd\n",
    "\n",
    "df = pd.read_csv('Shopping_Trends.csv')\n",
    "print(df.columns.tolist())\n"
   ]
  },
  {
   "cell_type": "code",
   "execution_count": 182,
   "id": "e3deb5f4",
   "metadata": {},
   "outputs": [
    {
     "name": "stdout",
     "output_type": "stream",
     "text": [
      "c:\\Users\\Admin\\Desktop\\ETL_Extract_QueenEstherKibegi_668897\n"
     ]
    }
   ],
   "source": [
    "import os\n",
    "print(os.getcwd())"
   ]
  },
  {
   "cell_type": "code",
   "execution_count": 183,
   "id": "9f98e1b0",
   "metadata": {},
   "outputs": [
    {
     "data": {
      "text/plain": [
       "'c:\\\\Users\\\\Admin\\\\Desktop\\\\ETL_Extract_QueenEstherKibegi_668897'"
      ]
     },
     "execution_count": 183,
     "metadata": {},
     "output_type": "execute_result"
    }
   ],
   "source": [
    "import os\n",
    "os.getcwd()\n"
   ]
  },
  {
   "cell_type": "code",
   "execution_count": 184,
   "id": "c3f1b0f0",
   "metadata": {},
   "outputs": [],
   "source": [
    "df_full = pd.read_csv(\"Shopping_Trends.csv\")\n"
   ]
  },
  {
   "cell_type": "code",
   "execution_count": 185,
   "id": "170bd011",
   "metadata": {},
   "outputs": [
    {
     "name": "stdout",
     "output_type": "stream",
     "text": [
      "✅ Transformed full data saved with enrichment and structural changes.\n"
     ]
    },
    {
     "name": "stderr",
     "output_type": "stream",
     "text": [
      "C:\\Users\\Admin\\AppData\\Local\\Temp\\ipykernel_2880\\3875405816.py:13: FutureWarning: DataFrame.fillna with 'method' is deprecated and will raise in a future version. Use obj.ffill() or obj.bfill() instead.\n",
      "  df_full.fillna(method='ffill', inplace=True)\n"
     ]
    }
   ],
   "source": [
    "import pandas as pd\n",
    "\n",
    "# Load full data\n",
    "df_full = pd.read_csv('Shopping_Trends.csv')\n",
    "\n",
    "# 1. Cleaning: Clean column names\n",
    "df_full.columns = df_full.columns.str.strip()\n",
    "\n",
    "# Drop duplicates\n",
    "df_full.drop_duplicates(inplace=True)\n",
    "\n",
    "# Fill missing values forward\n",
    "df_full.fillna(method='ffill', inplace=True)\n",
    "\n",
    "# 2. Enrichment:\n",
    "# ➤ Loyalty Score\n",
    "df_full['Loyalty_Score'] = df_full['Previous Purchases'] / df_full['Age']\n",
    "\n",
    "# ➤ Simulate Unit Price by dividing Purchase Amount by an assumed quantity\n",
    "# (You may customize this logic if you have better estimation)\n",
    "df_full['Quantity'] = 1  # assume quantity = 1 for each purchase\n",
    "df_full['Unit_Price'] = df_full['Purchase Amount (USD)'] / df_full['Quantity']\n",
    "df_full['Total_Price'] = df_full['Quantity'] * df_full['Unit_Price']\n",
    "\n",
    "# 3. Structural: Convert 'Order Date' to datetime\n",
    "df_full['Order Date'] = pd.to_datetime(df_full['Order Date'], errors='coerce')\n",
    "\n",
    "# 4. Categorization: Age groups\n",
    "df_full['Age_Group'] = pd.cut(df_full['Age'],\n",
    "                              bins=[0, 18, 25, 35, 50, 70, 100],\n",
    "                              labels=['<18', '18–25', '26–35', '36–50', '51–70', '71+'])\n",
    "\n",
    "# Drop unnecessary columns like 'Unnamed: 18', 'Unnamed: 20' if they exist\n",
    "df_full = df_full.loc[:, ~df_full.columns.str.contains('^Unnamed')]\n",
    "\n",
    "# Save the transformed file\n",
    "df_full.to_csv('transformed_full.csv', index=False)\n",
    "print(\"✅ Transformed full data saved with enrichment and structural changes.\")\n"
   ]
  },
  {
   "cell_type": "code",
   "execution_count": 186,
   "id": "bdee8b7d",
   "metadata": {},
   "outputs": [
    {
     "name": "stdout",
     "output_type": "stream",
     "text": [
      "✅ Incremental data transformed with Order Date formatted as YYYY-MM-DD.\n"
     ]
    },
    {
     "name": "stderr",
     "output_type": "stream",
     "text": [
      "C:\\Users\\Admin\\AppData\\Local\\Temp\\ipykernel_2880\\392147996.py:12: FutureWarning: DataFrame.fillna with 'method' is deprecated and will raise in a future version. Use obj.ffill() or obj.bfill() instead.\n",
      "  df_inc.fillna(method='ffill', inplace=True)\n"
     ]
    }
   ],
   "source": [
    "import pandas as pd\n",
    "\n",
    "# 🔹 Load the full dataset\n",
    "df_full = pd.read_csv('Shopping_Trends.csv')\n",
    "df_full.columns = df_full.columns.str.strip()\n",
    "\n",
    "# 🔹 Simulate incremental data (last 100 rows)\n",
    "df_inc = df_full.tail(100).copy()\n",
    "\n",
    "# 🔹 1. Cleaning\n",
    "df_inc.drop_duplicates(inplace=True)\n",
    "df_inc.fillna(method='ffill', inplace=True)\n",
    "\n",
    "# 🔹 2. Enrichment\n",
    "df_inc['Loyalty_Score'] = df_inc['Previous Purchases'] / df_inc['Age']\n",
    "df_inc['Quantity'] = 1  # Default if not available\n",
    "df_inc['Unit_Price'] = df_inc['Purchase Amount (USD)'] / df_inc['Quantity']\n",
    "df_inc['Total_Price'] = df_inc['Quantity'] * df_inc['Unit_Price']\n",
    "\n",
    "# 🔹 3. Categorization\n",
    "df_inc['Age_Group'] = pd.cut(df_inc['Age'],\n",
    "                             bins=[0, 18, 25, 35, 50, 70, 100],\n",
    "                             labels=['<18', '18–25', '26–35', '36–50', '51–70', '71+'])\n",
    "\n",
    "# 🔹 4. Structural: Format date as YYYY-MM-DD\n",
    "df_inc['Order Date'] = pd.to_datetime(df_inc['Order Date'], errors='coerce')\n",
    "df_inc['Order Date'] = df_inc['Order Date'].dt.strftime('%Y-%m-%d')\n",
    "\n",
    "# 🔹 5. Filtering: Remove unwanted columns\n",
    "columns_to_remove = ['Unnamed: 18', 'Unnamed: 20', 'Promo Code Used']\n",
    "df_inc.drop(columns=[col for col in columns_to_remove if col in df_inc.columns], inplace=True)\n",
    "\n",
    "# 🔹 Save transformed incremental data\n",
    "df_inc.to_csv('transformed_incremental.csv', index=False)\n",
    "print(\"✅ Incremental data transformed with Order Date formatted as YYYY-MM-DD.\")\n"
   ]
  }
 ],
 "metadata": {
  "kernelspec": {
   "display_name": "base",
   "language": "python",
   "name": "python3"
  },
  "language_info": {
   "codemirror_mode": {
    "name": "ipython",
    "version": 3
   },
   "file_extension": ".py",
   "mimetype": "text/x-python",
   "name": "python",
   "nbconvert_exporter": "python",
   "pygments_lexer": "ipython3",
   "version": "3.11.7"
  }
 },
 "nbformat": 4,
 "nbformat_minor": 5
}
